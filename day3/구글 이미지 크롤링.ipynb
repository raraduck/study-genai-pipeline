{
 "cells": [
  {
   "cell_type": "code",
   "execution_count": 4,
   "id": "3d454bb1",
   "metadata": {},
   "outputs": [],
   "source": [
    "from selenium.webdriver.chrome.service import Service\n",
    "from selenium import webdriver\n",
    "from bs4 import BeautifulSoup as bs\n",
    "import urllib.request\n",
    "import os\n",
    "from tqdm import tqdm\n",
    "import time\n",
    "\n",
    "# 경고창 무시\n",
    "import warnings\n",
    "warnings.filterwarnings('ignore')"
   ]
  },
  {
   "cell_type": "code",
   "execution_count": 13,
   "id": "f5c33ac7",
   "metadata": {},
   "outputs": [
    {
     "name": "stdout",
     "output_type": "stream",
     "text": [
      "참새\n"
     ]
    },
    {
     "ename": "InvalidSessionIdException",
     "evalue": "Message: invalid session id: session deleted as the browser has closed the connection\nfrom disconnected: not connected to DevTools\n  (Session info: chrome=138.0.7204.50)\nStacktrace:\n\tGetHandleVerifier [0x0x7ff7a42a6f65+76917]\n\tGetHandleVerifier [0x0x7ff7a42a6fc0+77008]\n\t(No symbol) [0x0x7ff7a4059dea]\n\t(No symbol) [0x0x7ff7a4045f15]\n\t(No symbol) [0x0x7ff7a406abf4]\n\t(No symbol) [0x0x7ff7a40dfa85]\n\t(No symbol) [0x0x7ff7a40fff72]\n\t(No symbol) [0x0x7ff7a40d8243]\n\t(No symbol) [0x0x7ff7a40a1431]\n\t(No symbol) [0x0x7ff7a40a21c3]\n\tGetHandleVerifier [0x0x7ff7a457d29d+3051437]\n\tGetHandleVerifier [0x0x7ff7a45778f3+3028483]\n\tGetHandleVerifier [0x0x7ff7a459588d+3151261]\n\tGetHandleVerifier [0x0x7ff7a42c182e+185662]\n\tGetHandleVerifier [0x0x7ff7a42c96ef+218111]\n\tGetHandleVerifier [0x0x7ff7a42afae4+112628]\n\tGetHandleVerifier [0x0x7ff7a42afc99+113065]\n\tGetHandleVerifier [0x0x7ff7a4296c68+10616]\n\tBaseThreadInitThunk [0x0x7fff71ab7374+20]\n\tRtlUserThreadStart [0x0x7fff7325cc91+33]\n",
     "output_type": "error",
     "traceback": [
      "\u001b[31m---------------------------------------------------------------------------\u001b[39m",
      "\u001b[31mInvalidSessionIdException\u001b[39m                 Traceback (most recent call last)",
      "\u001b[36mCell\u001b[39m\u001b[36m \u001b[39m\u001b[32mIn[13]\u001b[39m\u001b[32m, line 23\u001b[39m\n\u001b[32m     13\u001b[39m time.sleep(\u001b[32m2\u001b[39m)\n\u001b[32m     15\u001b[39m \u001b[38;5;28;01mfor\u001b[39;00m i \u001b[38;5;129;01min\u001b[39;00m \u001b[38;5;28mrange\u001b[39m(\u001b[32m10\u001b[39m):\n\u001b[32m     16\u001b[39m \n\u001b[32m     17\u001b[39m     \u001b[38;5;66;03m# if i == 5:\u001b[39;00m\n\u001b[32m   (...)\u001b[39m\u001b[32m     21\u001b[39m \n\u001b[32m     22\u001b[39m     \u001b[38;5;66;03m# 화면에서 스크롤바를 끝으로 드래그 이동\u001b[39;00m\n\u001b[32m---> \u001b[39m\u001b[32m23\u001b[39m     driver.execute_script(\u001b[33m\"\u001b[39m\u001b[33mwindow.scrollTo(0, document.body.scrollHeight);\u001b[39m\u001b[33m\"\u001b[39m) \n\u001b[32m     24\u001b[39m     time.sleep(\u001b[32m2\u001b[39m)\n",
      "\u001b[36mFile \u001b[39m\u001b[32mc:\\Users\\edu12\\miniconda3\\envs\\kcia1\\Lib\\site-packages\\selenium\\webdriver\\remote\\webdriver.py:544\u001b[39m, in \u001b[36mWebDriver.execute_script\u001b[39m\u001b[34m(self, script, *args)\u001b[39m\n\u001b[32m    541\u001b[39m converted_args = \u001b[38;5;28mlist\u001b[39m(args)\n\u001b[32m    542\u001b[39m command = Command.W3C_EXECUTE_SCRIPT\n\u001b[32m--> \u001b[39m\u001b[32m544\u001b[39m \u001b[38;5;28;01mreturn\u001b[39;00m \u001b[38;5;28mself\u001b[39m.execute(command, {\u001b[33m\"\u001b[39m\u001b[33mscript\u001b[39m\u001b[33m\"\u001b[39m: script, \u001b[33m\"\u001b[39m\u001b[33margs\u001b[39m\u001b[33m\"\u001b[39m: converted_args})[\u001b[33m\"\u001b[39m\u001b[33mvalue\u001b[39m\u001b[33m\"\u001b[39m]\n",
      "\u001b[36mFile \u001b[39m\u001b[32mc:\\Users\\edu12\\miniconda3\\envs\\kcia1\\Lib\\site-packages\\selenium\\webdriver\\remote\\webdriver.py:447\u001b[39m, in \u001b[36mWebDriver.execute\u001b[39m\u001b[34m(self, driver_command, params)\u001b[39m\n\u001b[32m    445\u001b[39m response = \u001b[38;5;28mself\u001b[39m.command_executor.execute(driver_command, params)\n\u001b[32m    446\u001b[39m \u001b[38;5;28;01mif\u001b[39;00m response:\n\u001b[32m--> \u001b[39m\u001b[32m447\u001b[39m     \u001b[38;5;28mself\u001b[39m.error_handler.check_response(response)\n\u001b[32m    448\u001b[39m     response[\u001b[33m\"\u001b[39m\u001b[33mvalue\u001b[39m\u001b[33m\"\u001b[39m] = \u001b[38;5;28mself\u001b[39m._unwrap_value(response.get(\u001b[33m\"\u001b[39m\u001b[33mvalue\u001b[39m\u001b[33m\"\u001b[39m, \u001b[38;5;28;01mNone\u001b[39;00m))\n\u001b[32m    449\u001b[39m     \u001b[38;5;28;01mreturn\u001b[39;00m response\n",
      "\u001b[36mFile \u001b[39m\u001b[32mc:\\Users\\edu12\\miniconda3\\envs\\kcia1\\Lib\\site-packages\\selenium\\webdriver\\remote\\errorhandler.py:232\u001b[39m, in \u001b[36mErrorHandler.check_response\u001b[39m\u001b[34m(self, response)\u001b[39m\n\u001b[32m    230\u001b[39m         alert_text = value[\u001b[33m\"\u001b[39m\u001b[33malert\u001b[39m\u001b[33m\"\u001b[39m].get(\u001b[33m\"\u001b[39m\u001b[33mtext\u001b[39m\u001b[33m\"\u001b[39m)\n\u001b[32m    231\u001b[39m     \u001b[38;5;28;01mraise\u001b[39;00m exception_class(message, screen, stacktrace, alert_text)  \u001b[38;5;66;03m# type: ignore[call-arg]  # mypy is not smart enough here\u001b[39;00m\n\u001b[32m--> \u001b[39m\u001b[32m232\u001b[39m \u001b[38;5;28;01mraise\u001b[39;00m exception_class(message, screen, stacktrace)\n",
      "\u001b[31mInvalidSessionIdException\u001b[39m: Message: invalid session id: session deleted as the browser has closed the connection\nfrom disconnected: not connected to DevTools\n  (Session info: chrome=138.0.7204.50)\nStacktrace:\n\tGetHandleVerifier [0x0x7ff7a42a6f65+76917]\n\tGetHandleVerifier [0x0x7ff7a42a6fc0+77008]\n\t(No symbol) [0x0x7ff7a4059dea]\n\t(No symbol) [0x0x7ff7a4045f15]\n\t(No symbol) [0x0x7ff7a406abf4]\n\t(No symbol) [0x0x7ff7a40dfa85]\n\t(No symbol) [0x0x7ff7a40fff72]\n\t(No symbol) [0x0x7ff7a40d8243]\n\t(No symbol) [0x0x7ff7a40a1431]\n\t(No symbol) [0x0x7ff7a40a21c3]\n\tGetHandleVerifier [0x0x7ff7a457d29d+3051437]\n\tGetHandleVerifier [0x0x7ff7a45778f3+3028483]\n\tGetHandleVerifier [0x0x7ff7a459588d+3151261]\n\tGetHandleVerifier [0x0x7ff7a42c182e+185662]\n\tGetHandleVerifier [0x0x7ff7a42c96ef+218111]\n\tGetHandleVerifier [0x0x7ff7a42afae4+112628]\n\tGetHandleVerifier [0x0x7ff7a42afc99+113065]\n\tGetHandleVerifier [0x0x7ff7a4296c68+10616]\n\tBaseThreadInitThunk [0x0x7fff71ab7374+20]\n\tRtlUserThreadStart [0x0x7fff7325cc91+33]\n"
     ]
    }
   ],
   "source": [
    "keyword=input('검색 이미지 검색어를 입력하세요.')\n",
    "print(keyword)\n",
    "\n",
    "url=\"https://www.google.com/search?sca_esv=\"\n",
    "url += keyword\n",
    "url += \"&q=\"\n",
    "url += keyword\n",
    "url += \"&udm=2&fbs=AIIjpHyDg0Pef0CibV20xjIa-FRejxCuOmkq074km2sZXr7uqz9_8tiStZcoMiP-q5iAtTZea012_WShjO6gd8_YyX878vIUOOVaRtH7vIltuz604IVIGI7VytTfxeVPAcHk8vlHdJ_NoWdAzbcf9-nohuRvoKYGePYNttX7e2AJH0xCoKa55j2cbYVB7rYUiVhQ25Wqe6PyC7q8i42CmNwd8_kz2Zd-wlXz3bsaERYhLLKct8Jr1Ko&sa=X&ved=2ahUKEwibod7yvpCOAxV7sVYBHevIG38QtKgLKAF6BAgXEAE&biw=971&bih=933&dpr=1\"\n",
    "\n",
    "service = Service('C:/chromedriver.exe')\n",
    "driver = webdriver.Chrome(service=service)\n",
    "driver.get(url)\n",
    "time.sleep(2)\n",
    "\n",
    "for i in range(10):\n",
    "    \n",
    "    # if i == 5:\n",
    "    #     # 더보기 버튼 클릭\n",
    "    #     driver.find_element_by_css_selector(\"#islmp > div > div > div > div.gBPM8 > div.qvfT1 > div.YstHxe > input\").click()\n",
    "    #     time.sleep(2)\n",
    "        \n",
    "    # 화면에서 스크롤바를 끝으로 드래그 이동\n",
    "    driver.execute_script(\"window.scrollTo(0, document.body.scrollHeight);\") \n",
    "    time.sleep(2)"
   ]
  },
  {
   "cell_type": "code",
   "execution_count": null,
   "id": "6d23ee11",
   "metadata": {},
   "outputs": [
    {
     "ename": "InvalidSessionIdException",
     "evalue": "Message: invalid session id: session deleted as the browser has closed the connection\nfrom disconnected: not connected to DevTools\n  (Session info: chrome=138.0.7204.50)\nStacktrace:\n\tGetHandleVerifier [0x0x7ff7a42a6f65+76917]\n\tGetHandleVerifier [0x0x7ff7a42a6fc0+77008]\n\t(No symbol) [0x0x7ff7a4059dea]\n\t(No symbol) [0x0x7ff7a4045f15]\n\t(No symbol) [0x0x7ff7a406abf4]\n\t(No symbol) [0x0x7ff7a40dfa85]\n\t(No symbol) [0x0x7ff7a40fff72]\n\t(No symbol) [0x0x7ff7a40d8243]\n\t(No symbol) [0x0x7ff7a40a1431]\n\t(No symbol) [0x0x7ff7a40a21c3]\n\tGetHandleVerifier [0x0x7ff7a457d29d+3051437]\n\tGetHandleVerifier [0x0x7ff7a45778f3+3028483]\n\tGetHandleVerifier [0x0x7ff7a459588d+3151261]\n\tGetHandleVerifier [0x0x7ff7a42c182e+185662]\n\tGetHandleVerifier [0x0x7ff7a42c96ef+218111]\n\tGetHandleVerifier [0x0x7ff7a42afae4+112628]\n\tGetHandleVerifier [0x0x7ff7a42afc99+113065]\n\tGetHandleVerifier [0x0x7ff7a4296c68+10616]\n\tBaseThreadInitThunk [0x0x7fff71ab7374+20]\n\tRtlUserThreadStart [0x0x7fff7325cc91+33]\n",
     "output_type": "error",
     "traceback": [
      "\u001b[31m---------------------------------------------------------------------------\u001b[39m",
      "\u001b[31mInvalidSessionIdException\u001b[39m                 Traceback (most recent call last)",
      "\u001b[36mCell\u001b[39m\u001b[36m \u001b[39m\u001b[32mIn[8]\u001b[39m\u001b[32m, line 14\u001b[39m\n\u001b[32m      4\u001b[39m time.sleep(\u001b[32m2\u001b[39m)\n\u001b[32m      6\u001b[39m \u001b[38;5;28;01mfor\u001b[39;00m i \u001b[38;5;129;01min\u001b[39;00m \u001b[38;5;28mrange\u001b[39m(\u001b[32m10\u001b[39m):\n\u001b[32m      7\u001b[39m \n\u001b[32m      8\u001b[39m     \u001b[38;5;66;03m# if i == 5:\u001b[39;00m\n\u001b[32m   (...)\u001b[39m\u001b[32m     12\u001b[39m \n\u001b[32m     13\u001b[39m     \u001b[38;5;66;03m# 화면에서 스크롤바를 끝으로 드래그 이동\u001b[39;00m\n\u001b[32m---> \u001b[39m\u001b[32m14\u001b[39m     driver.execute_script(\u001b[33m\"\u001b[39m\u001b[33mwindow.scrollTo(0, document.body.scrollHeight);\u001b[39m\u001b[33m\"\u001b[39m) \n\u001b[32m     15\u001b[39m     time.sleep(\u001b[32m2\u001b[39m)\n",
      "\u001b[36mFile \u001b[39m\u001b[32mc:\\Users\\edu12\\miniconda3\\envs\\kcia1\\Lib\\site-packages\\selenium\\webdriver\\remote\\webdriver.py:544\u001b[39m, in \u001b[36mWebDriver.execute_script\u001b[39m\u001b[34m(self, script, *args)\u001b[39m\n\u001b[32m    541\u001b[39m converted_args = \u001b[38;5;28mlist\u001b[39m(args)\n\u001b[32m    542\u001b[39m command = Command.W3C_EXECUTE_SCRIPT\n\u001b[32m--> \u001b[39m\u001b[32m544\u001b[39m \u001b[38;5;28;01mreturn\u001b[39;00m \u001b[38;5;28mself\u001b[39m.execute(command, {\u001b[33m\"\u001b[39m\u001b[33mscript\u001b[39m\u001b[33m\"\u001b[39m: script, \u001b[33m\"\u001b[39m\u001b[33margs\u001b[39m\u001b[33m\"\u001b[39m: converted_args})[\u001b[33m\"\u001b[39m\u001b[33mvalue\u001b[39m\u001b[33m\"\u001b[39m]\n",
      "\u001b[36mFile \u001b[39m\u001b[32mc:\\Users\\edu12\\miniconda3\\envs\\kcia1\\Lib\\site-packages\\selenium\\webdriver\\remote\\webdriver.py:447\u001b[39m, in \u001b[36mWebDriver.execute\u001b[39m\u001b[34m(self, driver_command, params)\u001b[39m\n\u001b[32m    445\u001b[39m response = \u001b[38;5;28mself\u001b[39m.command_executor.execute(driver_command, params)\n\u001b[32m    446\u001b[39m \u001b[38;5;28;01mif\u001b[39;00m response:\n\u001b[32m--> \u001b[39m\u001b[32m447\u001b[39m     \u001b[38;5;28mself\u001b[39m.error_handler.check_response(response)\n\u001b[32m    448\u001b[39m     response[\u001b[33m\"\u001b[39m\u001b[33mvalue\u001b[39m\u001b[33m\"\u001b[39m] = \u001b[38;5;28mself\u001b[39m._unwrap_value(response.get(\u001b[33m\"\u001b[39m\u001b[33mvalue\u001b[39m\u001b[33m\"\u001b[39m, \u001b[38;5;28;01mNone\u001b[39;00m))\n\u001b[32m    449\u001b[39m     \u001b[38;5;28;01mreturn\u001b[39;00m response\n",
      "\u001b[36mFile \u001b[39m\u001b[32mc:\\Users\\edu12\\miniconda3\\envs\\kcia1\\Lib\\site-packages\\selenium\\webdriver\\remote\\errorhandler.py:232\u001b[39m, in \u001b[36mErrorHandler.check_response\u001b[39m\u001b[34m(self, response)\u001b[39m\n\u001b[32m    230\u001b[39m         alert_text = value[\u001b[33m\"\u001b[39m\u001b[33malert\u001b[39m\u001b[33m\"\u001b[39m].get(\u001b[33m\"\u001b[39m\u001b[33mtext\u001b[39m\u001b[33m\"\u001b[39m)\n\u001b[32m    231\u001b[39m     \u001b[38;5;28;01mraise\u001b[39;00m exception_class(message, screen, stacktrace, alert_text)  \u001b[38;5;66;03m# type: ignore[call-arg]  # mypy is not smart enough here\u001b[39;00m\n\u001b[32m--> \u001b[39m\u001b[32m232\u001b[39m \u001b[38;5;28;01mraise\u001b[39;00m exception_class(message, screen, stacktrace)\n",
      "\u001b[31mInvalidSessionIdException\u001b[39m: Message: invalid session id: session deleted as the browser has closed the connection\nfrom disconnected: not connected to DevTools\n  (Session info: chrome=138.0.7204.50)\nStacktrace:\n\tGetHandleVerifier [0x0x7ff7a42a6f65+76917]\n\tGetHandleVerifier [0x0x7ff7a42a6fc0+77008]\n\t(No symbol) [0x0x7ff7a4059dea]\n\t(No symbol) [0x0x7ff7a4045f15]\n\t(No symbol) [0x0x7ff7a406abf4]\n\t(No symbol) [0x0x7ff7a40dfa85]\n\t(No symbol) [0x0x7ff7a40fff72]\n\t(No symbol) [0x0x7ff7a40d8243]\n\t(No symbol) [0x0x7ff7a40a1431]\n\t(No symbol) [0x0x7ff7a40a21c3]\n\tGetHandleVerifier [0x0x7ff7a457d29d+3051437]\n\tGetHandleVerifier [0x0x7ff7a45778f3+3028483]\n\tGetHandleVerifier [0x0x7ff7a459588d+3151261]\n\tGetHandleVerifier [0x0x7ff7a42c182e+185662]\n\tGetHandleVerifier [0x0x7ff7a42c96ef+218111]\n\tGetHandleVerifier [0x0x7ff7a42afae4+112628]\n\tGetHandleVerifier [0x0x7ff7a42afc99+113065]\n\tGetHandleVerifier [0x0x7ff7a4296c68+10616]\n\tBaseThreadInitThunk [0x0x7fff71ab7374+20]\n\tRtlUserThreadStart [0x0x7fff7325cc91+33]\n"
     ]
    }
   ],
   "source": []
  }
 ],
 "metadata": {
  "kernelspec": {
   "display_name": "kcia1",
   "language": "python",
   "name": "python3"
  },
  "language_info": {
   "codemirror_mode": {
    "name": "ipython",
    "version": 3
   },
   "file_extension": ".py",
   "mimetype": "text/x-python",
   "name": "python",
   "nbconvert_exporter": "python",
   "pygments_lexer": "ipython3",
   "version": "3.11.13"
  }
 },
 "nbformat": 4,
 "nbformat_minor": 5
}
