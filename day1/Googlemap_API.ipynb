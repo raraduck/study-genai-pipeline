{
 "cells": [
  {
   "cell_type": "code",
   "execution_count": 4,
   "id": "04112ba9",
   "metadata": {},
   "outputs": [
    {
     "data": {
      "text/plain": [
       "[{'address_components': [{'long_name': '혜화',\n",
       "    'short_name': '혜화',\n",
       "    'types': ['establishment',\n",
       "     'point_of_interest',\n",
       "     'subway_station',\n",
       "     'transit_station']},\n",
       "   {'long_name': '120', 'short_name': '120', 'types': ['premise']},\n",
       "   {'long_name': '대학로',\n",
       "    'short_name': '대학로',\n",
       "    'types': ['political', 'sublocality', 'sublocality_level_4']},\n",
       "   {'long_name': '종로구',\n",
       "    'short_name': '종로구',\n",
       "    'types': ['political', 'sublocality', 'sublocality_level_1']},\n",
       "   {'long_name': '서울특별시',\n",
       "    'short_name': '서울특별시',\n",
       "    'types': ['administrative_area_level_1', 'political']},\n",
       "   {'long_name': '대한민국',\n",
       "    'short_name': 'KR',\n",
       "    'types': ['country', 'political']},\n",
       "   {'long_name': '110-510',\n",
       "    'short_name': '110-510',\n",
       "    'types': ['postal_code']}],\n",
       "  'formatted_address': '대한민국 서울특별시 종로구 대학로 120 혜화',\n",
       "  'geometry': {'location': {'lat': 37.58217, 'lng': 127.001893},\n",
       "   'location_type': 'ROOFTOP',\n",
       "   'viewport': {'northeast': {'lat': 37.58351898029149,\n",
       "     'lng': 127.0032419802915},\n",
       "    'southwest': {'lat': 37.58082101970849, 'lng': 127.0005440197085}}},\n",
       "  'partial_match': True,\n",
       "  'place_id': 'ChIJe-UOjSujfDURny7gQjGg5ZA',\n",
       "  'plus_code': {'compound_code': 'H2J2+VQ 대한민국 서울특별시',\n",
       "   'global_code': '8Q99H2J2+VQ'},\n",
       "  'types': ['establishment',\n",
       "   'point_of_interest',\n",
       "   'subway_station',\n",
       "   'transit_station']},\n",
       " {'address_components': [{'long_name': '101',\n",
       "    'short_name': '101',\n",
       "    'types': ['premise']},\n",
       "   {'long_name': '대학로',\n",
       "    'short_name': '대학로',\n",
       "    'types': ['political', 'sublocality', 'sublocality_level_4']},\n",
       "   {'long_name': '종로구',\n",
       "    'short_name': '종로구',\n",
       "    'types': ['political', 'sublocality', 'sublocality_level_1']},\n",
       "   {'long_name': '서울특별시',\n",
       "    'short_name': '서울특별시',\n",
       "    'types': ['administrative_area_level_1', 'political']},\n",
       "   {'long_name': '대한민국',\n",
       "    'short_name': 'KR',\n",
       "    'types': ['country', 'political']},\n",
       "   {'long_name': '03080', 'short_name': '03080', 'types': ['postal_code']}],\n",
       "  'formatted_address': '대한민국 서울특별시 종로구 대학로 101',\n",
       "  'geometry': {'location': {'lat': 37.5795427, 'lng': 126.9990602},\n",
       "   'location_type': 'ROOFTOP',\n",
       "   'viewport': {'northeast': {'lat': 37.58089168029149,\n",
       "     'lng': 127.0004091802915},\n",
       "    'southwest': {'lat': 37.57819371970849, 'lng': 126.9977112197085}}},\n",
       "  'partial_match': True,\n",
       "  'place_id': 'ChIJfwBmf0GjfDUR6fEUA7Zw-mk',\n",
       "  'plus_code': {'compound_code': 'HXHX+RJ 대한민국 서울특별시',\n",
       "   'global_code': '8Q98HXHX+RJ'},\n",
       "  'types': ['establishment', 'health', 'hospital', 'point_of_interest']}]"
      ]
     },
     "execution_count": 4,
     "metadata": {},
     "output_type": "execute_result"
    }
   ],
   "source": [
    "import os\n",
    "from dotenv import load_dotenv\n",
    "import googlemaps\n",
    "\n",
    "load_dotenv()\n",
    "\n",
    "# get env variables\n",
    "googlemap_api_key = os.getenv('GOOGLEMAP_API_KEY')\n",
    "\n",
    "user_Key=googlemap_api_key\n",
    "\n",
    "gmaps=googlemaps.Client(key=user_Key)\n",
    "\n",
    "sch=input(\"Type address: \")\n",
    "ggmp=gmaps.geocode(sch, language='ko')\n",
    "ggmp"
   ]
  }
 ],
 "metadata": {
  "kernelspec": {
   "display_name": "kcia1",
   "language": "python",
   "name": "python3"
  },
  "language_info": {
   "codemirror_mode": {
    "name": "ipython",
    "version": 3
   },
   "file_extension": ".py",
   "mimetype": "text/x-python",
   "name": "python",
   "nbconvert_exporter": "python",
   "pygments_lexer": "ipython3",
   "version": "3.11.13"
  }
 },
 "nbformat": 4,
 "nbformat_minor": 5
}
